{
  "cells": [
    {
      "cell_type": "code",
      "execution_count": 1,
      "metadata": {
        "id": "PWrzoJpJxB8f"
      },
      "outputs": [],
      "source": [
        "from tensorflow.keras.datasets import imdb\n",
        "\n",
        "(train_data,train_labels),(test_data,test_labels) = imdb.load_data(num_words=10000)\n",
        "\n",
        "word_index = imdb.get_word_index()\n",
        "\n",
        "reverse_word_index = dict([(value,key) for (key,value) in word_index.items()])"
      ]
    },
    {
      "cell_type": "code",
      "execution_count": 4,
      "metadata": {
        "colab": {
          "base_uri": "https://localhost:8080/"
        },
        "id": "lN6Ta-xxxB8n",
        "outputId": "7ff6197c-1586-4416-b582-c7c5dfc51d81"
      },
      "outputs": [
        {
          "output_type": "stream",
          "name": "stdout",
          "text": [
            "? this film was just brilliant casting location scenery story direction everyone's really suited the part they played and you could just imagine being there robert ? is an amazing actor and now the same being director ? father came from the same scottish island as myself so i loved the fact there was a real connection with this film the witty remarks throughout the film were great it was just brilliant so much that i bought the film as soon as it was released for ? and would recommend it to everyone to watch and the fly fishing was amazing really cried at the end it was so sad and you know what they say if you cry at a film it must have been good and this definitely was also ? to the two little boy's that played the ? of norman and paul they were just brilliant children are often left out of the ? list i think because the stars that play them all grown up are such a big profile for the whole film but these children are amazing and should be praised for what they have done don't you think the whole story was so lovely because it was true and was someone's life after all that was shared with us all\n",
            "[1, 14, 22, 16, 43, 530, 973, 1622, 1385, 65, 458, 4468, 66, 3941, 4, 173, 36, 256, 5, 25, 100, 43, 838, 112, 50, 670, 2, 9, 35, 480, 284, 5, 150, 4, 172, 112, 167, 2, 336, 385, 39, 4, 172, 4536, 1111, 17, 546, 38, 13, 447, 4, 192, 50, 16, 6, 147, 2025, 19, 14, 22, 4, 1920, 4613, 469, 4, 22, 71, 87, 12, 16, 43, 530, 38, 76, 15, 13, 1247, 4, 22, 17, 515, 17, 12, 16, 626, 18, 2, 5, 62, 386, 12, 8, 316, 8, 106, 5, 4, 2223, 5244, 16, 480, 66, 3785, 33, 4, 130, 12, 16, 38, 619, 5, 25, 124, 51, 36, 135, 48, 25, 1415, 33, 6, 22, 12, 215, 28, 77, 52, 5, 14, 407, 16, 82, 2, 8, 4, 107, 117, 5952, 15, 256, 4, 2, 7, 3766, 5, 723, 36, 71, 43, 530, 476, 26, 400, 317, 46, 7, 4, 2, 1029, 13, 104, 88, 4, 381, 15, 297, 98, 32, 2071, 56, 26, 141, 6, 194, 7486, 18, 4, 226, 22, 21, 134, 476, 26, 480, 5, 144, 30, 5535, 18, 51, 36, 28, 224, 92, 25, 104, 4, 226, 65, 16, 38, 1334, 88, 12, 16, 283, 5, 16, 4472, 113, 103, 32, 15, 16, 5345, 19, 178, 32]\n",
            "1\n"
          ]
        }
      ],
      "source": [
        "decoded_review = \" \".join([reverse_word_index.get(i-3, \"?\") for i in train_data[0]])\n",
        "print(decoded_review)\n",
        "print(train_data[0])\n",
        "print(train_labels[0])"
      ]
    },
    {
      "cell_type": "code",
      "execution_count": 2,
      "metadata": {
        "id": "CbibrFadxB8o"
      },
      "outputs": [],
      "source": [
        "#multi-hot encoding\n",
        "\n",
        "import numpy as np\n",
        "\n",
        "def vectorize_sequences(sequences,dimension=10000):\n",
        "    results = np.zeros((len(sequences),dimension))\n",
        "    for i, sequence in enumerate(sequences):\n",
        "        for j in sequence:\n",
        "            results[i,j] = 1\n",
        "    return results\n",
        "\n",
        "x_train = vectorize_sequences(train_data)\n",
        "x_test = vectorize_sequences(test_data)"
      ]
    },
    {
      "cell_type": "code",
      "execution_count": 3,
      "metadata": {
        "colab": {
          "base_uri": "https://localhost:8080/"
        },
        "id": "VKZnUFeOxB8p",
        "outputId": "1ca17fb2-b1a2-4c17-bed9-8d7efeda7051"
      },
      "outputs": [
        {
          "output_type": "execute_result",
          "data": {
            "text/plain": [
              "(25000, 10000)"
            ]
          },
          "metadata": {},
          "execution_count": 3
        }
      ],
      "source": [
        "y_train = np.asarray(train_labels).astype(\"float32\")\n",
        "y_test = np.asarray(test_labels).astype(\"float32\")\n",
        "\n",
        "x_train.shape"
      ]
    },
    {
      "cell_type": "code",
      "execution_count": 7,
      "metadata": {
        "colab": {
          "base_uri": "https://localhost:8080/"
        },
        "id": "OWFF11n0xB8q",
        "outputId": "ee5ae4f4-a22a-47a4-a805-34829ae179ff"
      },
      "outputs": [
        {
          "output_type": "stream",
          "name": "stdout",
          "text": [
            "Model: \"sequential_1\"\n",
            "_________________________________________________________________\n",
            " Layer (type)                Output Shape              Param #   \n",
            "=================================================================\n",
            " dense_3 (Dense)             (None, 64)                640064    \n",
            "                                                                 \n",
            " dense_4 (Dense)             (None, 64)                4160      \n",
            "                                                                 \n",
            " dropout_1 (Dropout)         (None, 64)                0         \n",
            "                                                                 \n",
            " dense_5 (Dense)             (None, 1)                 65        \n",
            "                                                                 \n",
            "=================================================================\n",
            "Total params: 644,289\n",
            "Trainable params: 644,289\n",
            "Non-trainable params: 0\n",
            "_________________________________________________________________\n"
          ]
        }
      ],
      "source": [
        "import tensorflow as tf\n",
        "\n",
        "def imdb_model(hidd_neu = 16, hidd_act='relu',do_freq=0.2):\n",
        "  return tf.keras.Sequential(\n",
        "    [\n",
        "      tf.keras.layers.Input(shape=(10000,)),\n",
        "      tf.keras.layers.Dense(hidd_neu,activation=hidd_act),\n",
        "      tf.keras.layers.Dense(hidd_neu,activation=hidd_act),\n",
        "      #tf.keras.layers.Dense(hidd_neu,activation=hidd_act),\n",
        "      tf.keras.layers.Dropout(do_freq),\n",
        "      tf.keras.layers.Dense(1, activation='sigmoid') \n",
        "    ]\n",
        "  )\n",
        "\n",
        "model = imdb_model(hidd_neu=64)\n",
        "model.summary()"
      ]
    },
    {
      "cell_type": "code",
      "execution_count": 8,
      "metadata": {
        "id": "488OgZo3xB8r"
      },
      "outputs": [],
      "source": [
        "model.compile(\n",
        "    optimizer='RMSprop',\n",
        "    loss='binary_crossentropy',\n",
        "    #loss='mse',\n",
        "    metrics=['accuracy'],\n",
        ")"
      ]
    },
    {
      "cell_type": "code",
      "execution_count": 9,
      "metadata": {
        "colab": {
          "base_uri": "https://localhost:8080/"
        },
        "id": "2gJnl2y_xB8t",
        "outputId": "bbdefac7-87bf-4935-a4ac-2dfcb478a780"
      },
      "outputs": [
        {
          "output_type": "stream",
          "name": "stdout",
          "text": [
            "Epoch 1/3\n",
            "49/49 [==============================] - 4s 78ms/step - loss: 0.4286 - accuracy: 0.8076 - val_loss: 0.2954 - val_accuracy: 0.8868\n",
            "Epoch 2/3\n",
            "49/49 [==============================] - 3s 66ms/step - loss: 0.2448 - accuracy: 0.9064 - val_loss: 0.2865 - val_accuracy: 0.8848\n",
            "Epoch 3/3\n",
            "49/49 [==============================] - 3s 65ms/step - loss: 0.1879 - accuracy: 0.9302 - val_loss: 0.2925 - val_accuracy: 0.8851\n"
          ]
        }
      ],
      "source": [
        "H = model.fit(x_train, y_train,batch_size=512,epochs=3,validation_data=(x_test,y_test))"
      ]
    },
    {
      "cell_type": "code",
      "source": [
        "results = model.evaluate(x_test, y_test)"
      ],
      "metadata": {
        "colab": {
          "base_uri": "https://localhost:8080/"
        },
        "id": "YfvyJwPdyIwS",
        "outputId": "acf01857-50e2-41a0-e0ef-8047d0e0090a"
      },
      "execution_count": 10,
      "outputs": [
        {
          "output_type": "stream",
          "name": "stdout",
          "text": [
            "782/782 [==============================] - 3s 4ms/step - loss: 0.2925 - accuracy: 0.8851\n"
          ]
        }
      ]
    },
    {
      "cell_type": "code",
      "source": [
        "import matplotlib.pyplot as plt\n",
        "\n",
        "def plot_history(H):\n",
        "  plt.figure(figsize=(10, 10))\n",
        "  plt.plot( H.history[\"loss\"], label=\"train_loss\")\n",
        "  plt.plot( H.history[\"accuracy\"], label=\"train_acc\")\n",
        "  plt.plot( H.history[\"val_loss\"], label=\"validation_loss\")\n",
        "  plt.plot( H.history[\"val_accuracy\"], label=\"validation_acc\")\n",
        "\n",
        "  plt.title(\"Loss / accuracy evolution\")\n",
        "  plt.xlabel(\"Epoch #\")\n",
        "  plt.ylabel(\"Loss / Accuracy\")\n",
        "  plt.ylim([0, 1])  \n",
        "  leg=plt.legend()"
      ],
      "metadata": {
        "id": "59bkcAKo0Us9"
      },
      "execution_count": 11,
      "outputs": []
    },
    {
      "cell_type": "code",
      "source": [
        "plot_history(H)"
      ],
      "metadata": {
        "colab": {
          "base_uri": "https://localhost:8080/",
          "height": 621
        },
        "id": "3JKWDF6A0z5f",
        "outputId": "10ecb591-985e-4afe-d0e4-363409baff5b"
      },
      "execution_count": 12,
      "outputs": [
        {
          "output_type": "display_data",
          "data": {
            "image/png": "[encoded data removed]",
            "text/plain": [
              "<Figure size 720x720 with 1 Axes>"
            ]
          },
          "metadata": {
            "needs_background": "light"
          }
        }
      ]
    },
    {
      "cell_type": "code",
      "source": [
        "predictions = model.predict(x_test)"
      ],
      "metadata": {
        "id": "bR-dObGl6do9"
      },
      "execution_count": 24,
      "outputs": []
    },
    {
      "cell_type": "code",
      "source": [
        "predictions.shape"
      ],
      "metadata": {
        "colab": {
          "base_uri": "https://localhost:8080/"
        },
        "id": "6obkylTz6nNv",
        "outputId": "38a2cb97-993d-4a5c-b401-d42357160595"
      },
      "execution_count": 26,
      "outputs": [
        {
          "output_type": "execute_result",
          "data": {
            "text/plain": [
              "(25000, 1)"
            ]
          },
          "metadata": {},
          "execution_count": 26
        }
      ]
    }
  ],
  "metadata": {
    "interpreter": {
      "hash": "50fe882ca904cb0bee4830053affed36ca26250fa3534c4aafa37ae55e877e0e"
    },
    "kernelspec": {
      "display_name": "Python 3.8.8 64-bit ('base': conda)",
      "language": "python",
      "name": "python3"
    },
    "language_info": {
      "codemirror_mode": {
        "name": "ipython",
        "version": 3
      },
      "file_extension": ".py",
      "mimetype": "text/x-python",
      "name": "python",
      "nbconvert_exporter": "python",
      "pygments_lexer": "ipython3",
      "version": "3.8.8"
    },
    "orig_nbformat": 4,
    "colab": {
      "name": "imdb.ipynb",
      "provenance": [],
      "collapsed_sections": []
    }
  },
  "nbformat": 4,
  "nbformat_minor": 0
}